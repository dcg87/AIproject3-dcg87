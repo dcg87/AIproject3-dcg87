{
 "cells": [
  {
   "cell_type": "markdown",
   "metadata": {},
   "source": [
    "# Load Data"
   ]
  },
  {
   "cell_type": "code",
   "execution_count": 47,
   "metadata": {
    "collapsed": true
   },
   "outputs": [],
   "source": [
    "from naivebayes import *"
   ]
  },
  {
   "cell_type": "code",
   "execution_count": 48,
   "metadata": {
    "collapsed": true
   },
   "outputs": [],
   "source": [
    "training_image_data = read_image_data(\"./trainingimages.txt\")\n",
    "training_label_data = read_label_data(\"./traininglabels.txt\")\n",
    "testing_image_data = read_image_data(\"./testimages.txt\")\n",
    "testing_label_data = read_label_data(\"./testlabels.txt\")\n",
    "\n",
    "labels = [str(item) for item in range(0, 10)]\n",
    "features = [0, 1, 2, 3] \n",
    "eps = 3/10 # threshold for what to conisder a \"significant\" amount of pixels in a given region\n"
   ]
  },
  {
   "cell_type": "markdown",
   "metadata": {},
   "source": [
    "# Feature Construction"
   ]
  },
  {
   "cell_type": "markdown",
   "metadata": {},
   "source": [
    "Each image is partitioned into four regions: $f_1,f_2,f_3,f_4$. \n",
    "\n",
    "$ f_i = \n",
    "\\begin{cases}\n",
    "1 \\space\\space\\text{if density of pixels >= }\\epsilon\\\\\n",
    "0 \\space\\space\\text{otherwise}\n",
    "\\end{cases}$\n"
   ]
  },
  {
   "cell_type": "code",
   "execution_count": 3,
   "metadata": {
    "collapsed": true
   },
   "outputs": [],
   "source": [
    "\n",
    "#make feature vectors\n",
    "train = make_feature_vector(training_image_data, training_label_data,5000,eps)\n",
    "test = make_feature_vector(testing_image_data, testing_label_data,1000,eps)"
   ]
  },
  {
   "cell_type": "markdown",
   "metadata": {},
   "source": [
    "# Calculating the priors"
   ]
  },
  {
   "cell_type": "code",
   "execution_count": 4,
   "metadata": {},
   "outputs": [
    {
     "name": "stdout",
     "output_type": "stream",
     "text": [
      "0.0958\n",
      "0.1126\n",
      "0.0976\n",
      "0.0986\n",
      "0.107\n",
      "0.0868\n",
      "0.1002\n",
      "0.11\n",
      "0.0924\n",
      "0.099\n",
      "sum: 0.9999999999999999\n"
     ]
    }
   ],
   "source": [
    "#class priors (eps=3/10)\n",
    "sanity_check = 0.0\n",
    "for label in labels:\n",
    "    p = prior(label,train)\n",
    "    sanity_check += p\n",
    "    print(p)\n",
    "    \n",
    "print(\"sum: \" + str(sanity_check))"
   ]
  },
  {
   "cell_type": "markdown",
   "metadata": {},
   "source": [
    "# Calculating the Evidence"
   ]
  },
  {
   "cell_type": "code",
   "execution_count": 5,
   "metadata": {},
   "outputs": [
    {
     "name": "stdout",
     "output_type": "stream",
     "text": [
      "0.5848\n",
      "0.5786\n",
      "0.1634\n",
      "0.1532\n",
      "sum: 1.48\n"
     ]
    }
   ],
   "source": [
    "#evidence priors (n=4 features, eps=3/10)\n",
    "sanity_check = 0.0\n",
    "for feature in features:\n",
    "    f = sum([1 for item in train if item[feature] == True]) / len(train)\n",
    "    sanity_check += f\n",
    "    print(f)\n",
    "    \n",
    "print(\"sum: \" + str(sanity_check))"
   ]
  },
  {
   "cell_type": "markdown",
   "metadata": {},
   "source": [
    "# A Function to Calcluate Conditional Probability"
   ]
  },
  {
   "cell_type": "code",
   "execution_count": 6,
   "metadata": {
    "collapsed": true
   },
   "outputs": [],
   "source": [
    "# calculate the probability that an event=value conditioned on a specified probability space\n",
    "# used to find both unconditional probabilities (prob_space = omega) and conditional probabilities (prob_space = evidence)\n",
    "def P(event,value,prob_space):\n",
    "    return sum([1 for item in prob_space if item[event] == value]) / len(prob_space)\n",
    "    "
   ]
  },
  {
   "cell_type": "markdown",
   "metadata": {},
   "source": [
    "# Example"
   ]
  },
  {
   "cell_type": "code",
   "execution_count": 7,
   "metadata": {},
   "outputs": [
    {
     "data": {
      "text/plain": [
       "0.17721826028103388"
      ]
     },
     "execution_count": 7,
     "metadata": {},
     "output_type": "execute_result"
    }
   ],
   "source": [
    "# calculate join dist. using Naive Bayes assumption (all features independent)\n",
    "a = P(0,True,[item for item in train if item[4] == '1'])\n",
    "b = P(1,True,[item for item in train if item[4] == '1'])\n",
    "c = P(2,False,[item for item in train if item[4] == '1'])\n",
    "d = P(3,False,[item for item in train if item[4] == '1'])\n",
    "\n",
    "a * b * c * d"
   ]
  },
  {
   "cell_type": "markdown",
   "metadata": {},
   "source": [
    "# Calculate Posteriors"
   ]
  },
  {
   "cell_type": "code",
   "execution_count": 8,
   "metadata": {
    "collapsed": true
   },
   "outputs": [],
   "source": [
    "# calculate P(C|F) \n",
    "def posterior(C,f1,f2,f3,f4,train):\n",
    "    return (P(0,f1,[item for item in train if item[4] == C]) * \\\n",
    "    P(1,f2,[item for item in train if item[4] == C]) * \\\n",
    "    P(2,f3,[item for item in train if item[4] == C]) * \\\n",
    "    P(3,f4,[item for item in train if item[4] == C]) * \\\n",
    "    P(4,C,train)) \n",
    "\n",
    "\n",
    "\n",
    "    "
   ]
  },
  {
   "cell_type": "markdown",
   "metadata": {},
   "source": [
    "# Prediction Function"
   ]
  },
  {
   "cell_type": "code",
   "execution_count": 9,
   "metadata": {
    "collapsed": true
   },
   "outputs": [],
   "source": [
    "#predict the label for a given problem instance, given the training data\n",
    "#X = [f1,f2,f3,f4]\n",
    "def predict(X):\n",
    "    index = 0\n",
    "    count = 0\n",
    "    max_prob = 0.0\n",
    "    for label in labels:\n",
    "        prob = posterior(label,X[0],X[1],X[2],X[3],train)\n",
    "        if max_prob < prob:\n",
    "            max_prob = prob\n",
    "            count += 1\n",
    "        index += 1\n",
    "    return str(count)\n",
    "\n",
    "    \n",
    "\n"
   ]
  },
  {
   "cell_type": "markdown",
   "metadata": {},
   "source": [
    "# A Function for Calculating Accuracy"
   ]
  },
  {
   "cell_type": "code",
   "execution_count": 10,
   "metadata": {
    "collapsed": true
   },
   "outputs": [],
   "source": [
    "# How accurate? \n",
    "def evaluate(test,N):\n",
    "    n_correct = 0\n",
    "    for item in test:\n",
    "        if predict(item) == item[4]:\n",
    "            n_correct += 1\n",
    "\n",
    "    pct_correct = n_correct / N\n",
    "    return pct_correct\n",
    "    \n"
   ]
  },
  {
   "cell_type": "markdown",
   "metadata": {},
   "source": [
    "# Train/Test"
   ]
  },
  {
   "cell_type": "markdown",
   "metadata": {},
   "source": [
    "### <i>A Test in Patience</i> "
   ]
  },
  {
   "cell_type": "code",
   "execution_count": 51,
   "metadata": {},
   "outputs": [
    {
     "name": "stdout",
     "output_type": "stream",
     "text": [
      "Training time: 0.7382729999999356 sec.\n",
      "Using 10% training data (5 trials)...\n",
      "t=0\n",
      "t=1\n",
      "t=2\n",
      "t=3\n",
      "t=4\n",
      "Using 20% training data (5 trials)...\n",
      "t=0\n",
      "t=1\n",
      "t=2\n",
      "t=3\n",
      "t=4\n",
      "Using 30% training data (5 trials)...\n",
      "t=0\n",
      "t=1\n",
      "t=2\n",
      "t=3\n",
      "t=4\n",
      "Using 40% training data (5 trials)...\n",
      "t=0\n",
      "t=1\n",
      "t=2\n",
      "t=3\n",
      "t=4\n",
      "Using 50% training data (5 trials)...\n",
      "t=0\n",
      "t=1\n",
      "t=2\n",
      "t=3\n",
      "t=4\n",
      "Using 60% training data (5 trials)...\n",
      "t=0\n",
      "t=1\n",
      "t=2\n",
      "t=3\n",
      "t=4\n",
      "Using 70% training data (5 trials)...\n",
      "t=0\n",
      "t=1\n",
      "t=2\n",
      "t=3\n",
      "t=4\n",
      "Using 80% training data (5 trials)...\n",
      "t=0\n",
      "t=1\n",
      "t=2\n",
      "t=3\n",
      "t=4\n",
      "Using 90% training data (5 trials)...\n",
      "t=0\n",
      "t=1\n",
      "t=2\n",
      "t=3\n",
      "t=4\n",
      "Using 100% training data (5 trials)...\n",
      "t=0\n",
      "t=1\n",
      "t=2\n",
      "t=3\n",
      "t=4\n"
     ]
    }
   ],
   "source": [
    "import random\n",
    "import numpy as np\n",
    "import time\n",
    "\n",
    "N = 5 # number of trials\n",
    "size = [500,1000,1500,2000,2500,3000,3500,4000,4500,5000] #size of dataset (by 10%s)\n",
    "\n",
    "accuracy = list()\n",
    "mean = list()\n",
    "std = list()\n",
    "\n",
    "\n",
    "#record training time\n",
    "tic = time.clock()\n",
    "X_train = make_feature_vector(training_image_data,training_label_data,5000,eps) #train\n",
    "toc = time.clock()\n",
    "print(\"Training time: \" + str(toc-tic) + \" sec.\")\n",
    "\n",
    "X_test = make_feature_vector(testing_image_data, testing_label_data,1000,eps)  #test\n",
    "\n",
    "for s in size:\n",
    "    print(\"Using \" + str(round( (s / len(X_train)) * 100 )) + \"% training data (\" + str(N) + \" trials)...\")\n",
    "    for i in range(0,N):\n",
    "        print(f\"t={i}\")\n",
    "        train = random.sample(X_train,s) # sample \n",
    "        accuracy.append(evaluate(X_test,s)) #test\n",
    "    mean.append(np.average(accuracy)) # record accuracy \n",
    "    std.append(np.std(accuracy))    # std accuracy\n",
    "    accuracy.clear()\n",
    "    \n",
    "    \n",
    "\n",
    "    \n"
   ]
  },
  {
   "cell_type": "markdown",
   "metadata": {},
   "source": [
    "# Mean Accuracy and Standard Deviation\n",
    "### <i>A Lesson in Humility</i>"
   ]
  },
  {
   "cell_type": "code",
   "execution_count": 52,
   "metadata": {},
   "outputs": [
    {
     "name": "stdout",
     "output_type": "stream",
     "text": [
      "mean(acc),std(acc) (5 trials)\n",
      "21.0%  0.041058\n",
      "9.0%  0.011883\n",
      "6.0%  0.008964\n",
      "4.0%  0.01294\n",
      "4.0%  0.001686\n",
      "3.0%  0.00124\n",
      "3.0%  0.004045\n",
      "2.0%  0.0012\n",
      "2.0%  0.000259\n",
      "2.0%  0.0\n"
     ]
    }
   ],
   "source": [
    "print(f\"mean(acc),std(acc) ({N} trials)\")\n",
    "for (m,s) in zip(mean,std):\n",
    "    print(str(round(m,2)*100) + \"%\" + \"  \" + str(round(s,6)))\n",
    "\n"
   ]
  },
  {
   "cell_type": "markdown",
   "metadata": {},
   "source": [
    "# The Relationship Between Accuracy and Threshold"
   ]
  },
  {
   "cell_type": "code",
   "execution_count": 54,
   "metadata": {},
   "outputs": [
    {
     "name": "stdout",
     "output_type": "stream",
     "text": [
      "[0.103, 0.087, 0.09, 0.087, 0.102, 0.103, 0.103, 0.103]\n"
     ]
    }
   ],
   "source": [
    "# how does accuracy vary with threshold?\n",
    "\n",
    "accuracy = list()\n",
    "thresholds = [1/10,2/10,3/10,4/10,5/10,7/10,8/10,9/10]\n",
    "for t in thresholds:\n",
    "    train = make_feature_vector(training_image_data, training_label_data,5000,t)\n",
    "    test = make_feature_vector(testing_image_data, testing_label_data,1000,t)\n",
    "    accuracy.append(evaluate(test,1000))\n",
    "\n",
    "print(accuracy)   "
   ]
  },
  {
   "cell_type": "markdown",
   "metadata": {},
   "source": [
    "It appears that $[1/10,5/10,6/10,7/10,8/10,9/10]$ are the optimal thresholds. For some reason, $[2/10,3/10,4/10]$ cause a slight dip in accuracy."
   ]
  },
  {
   "cell_type": "markdown",
   "metadata": {},
   "source": [
    "# Why is the accuracy so bad?"
   ]
  },
  {
   "cell_type": "markdown",
   "metadata": {},
   "source": [
    "### A Post-Mortem Analysis"
   ]
  },
  {
   "cell_type": "code",
   "execution_count": 37,
   "metadata": {
    "collapsed": true
   },
   "outputs": [],
   "source": [
    "import pandas as pd\n",
    "import matplotlib.pyplot as plt"
   ]
  },
  {
   "cell_type": "code",
   "execution_count": 38,
   "metadata": {},
   "outputs": [
    {
     "data": {
      "text/html": [
       "<div>\n",
       "<style>\n",
       "    .dataframe thead tr:only-child th {\n",
       "        text-align: right;\n",
       "    }\n",
       "\n",
       "    .dataframe thead th {\n",
       "        text-align: left;\n",
       "    }\n",
       "\n",
       "    .dataframe tbody tr th {\n",
       "        vertical-align: top;\n",
       "    }\n",
       "</style>\n",
       "<table border=\"1\" class=\"dataframe\">\n",
       "  <thead>\n",
       "    <tr style=\"text-align: right;\">\n",
       "      <th></th>\n",
       "      <th>f1</th>\n",
       "      <th>f2</th>\n",
       "      <th>f3</th>\n",
       "      <th>f4</th>\n",
       "      <th>label</th>\n",
       "    </tr>\n",
       "  </thead>\n",
       "  <tbody>\n",
       "    <tr>\n",
       "      <th>0</th>\n",
       "      <td>136</td>\n",
       "      <td>134</td>\n",
       "      <td>89</td>\n",
       "      <td>87</td>\n",
       "      <td>5</td>\n",
       "    </tr>\n",
       "    <tr>\n",
       "      <th>1</th>\n",
       "      <td>139</td>\n",
       "      <td>139</td>\n",
       "      <td>104</td>\n",
       "      <td>104</td>\n",
       "      <td>0</td>\n",
       "    </tr>\n",
       "    <tr>\n",
       "      <th>2</th>\n",
       "      <td>96</td>\n",
       "      <td>79</td>\n",
       "      <td>86</td>\n",
       "      <td>73</td>\n",
       "      <td>4</td>\n",
       "    </tr>\n",
       "    <tr>\n",
       "      <th>3</th>\n",
       "      <td>85</td>\n",
       "      <td>85</td>\n",
       "      <td>68</td>\n",
       "      <td>68</td>\n",
       "      <td>1</td>\n",
       "    </tr>\n",
       "    <tr>\n",
       "      <th>4</th>\n",
       "      <td>125</td>\n",
       "      <td>125</td>\n",
       "      <td>84</td>\n",
       "      <td>84</td>\n",
       "      <td>9</td>\n",
       "    </tr>\n",
       "  </tbody>\n",
       "</table>\n",
       "</div>"
      ],
      "text/plain": [
       "    f1   f2   f3   f4 label\n",
       "0  136  134   89   87     5\n",
       "1  139  139  104  104     0\n",
       "2   96   79   86   73     4\n",
       "3   85   85   68   68     1\n",
       "4  125  125   84   84     9"
      ]
     },
     "execution_count": 38,
     "metadata": {},
     "output_type": "execute_result"
    }
   ],
   "source": [
    "data = pd.DataFrame(make_feature_vector(training_image_data,training_label_data,5000,None),columns=['f1','f2','f3','f4','label'])\n",
    "data.head()"
   ]
  },
  {
   "cell_type": "code",
   "execution_count": 39,
   "metadata": {},
   "outputs": [
    {
     "data": {
      "text/plain": [
       "count    5000.000000\n",
       "mean      122.450200\n",
       "std        32.386332\n",
       "min         0.000000\n",
       "25%       101.000000\n",
       "50%       123.000000\n",
       "75%       144.000000\n",
       "max       239.000000\n",
       "Name: f1, dtype: float64"
      ]
     },
     "execution_count": 39,
     "metadata": {},
     "output_type": "execute_result"
    }
   ],
   "source": [
    "data.f1.describe()\n"
   ]
  },
  {
   "cell_type": "code",
   "execution_count": 40,
   "metadata": {},
   "outputs": [
    {
     "data": {
      "text/plain": [
       "count    5000.000000\n",
       "mean      121.847000\n",
       "std        32.072601\n",
       "min         0.000000\n",
       "25%       101.000000\n",
       "50%       123.000000\n",
       "75%       143.000000\n",
       "max       235.000000\n",
       "Name: f2, dtype: float64"
      ]
     },
     "execution_count": 40,
     "metadata": {},
     "output_type": "execute_result"
    }
   ],
   "source": [
    "data.f2.describe()\n"
   ]
  },
  {
   "cell_type": "code",
   "execution_count": 41,
   "metadata": {},
   "outputs": [
    {
     "data": {
      "text/plain": [
       "count    5000.00000\n",
       "mean       91.21440\n",
       "std        26.52625\n",
       "min         0.00000\n",
       "25%        72.00000\n",
       "50%        92.00000\n",
       "75%       110.00000\n",
       "max       197.00000\n",
       "Name: f3, dtype: float64"
      ]
     },
     "execution_count": 41,
     "metadata": {},
     "output_type": "execute_result"
    }
   ],
   "source": [
    "data.f3.describe()\n"
   ]
  },
  {
   "cell_type": "code",
   "execution_count": 42,
   "metadata": {},
   "outputs": [
    {
     "data": {
      "text/plain": [
       "count    5000.000000\n",
       "mean       90.771400\n",
       "std        26.241457\n",
       "min         0.000000\n",
       "25%        71.000000\n",
       "50%        91.000000\n",
       "75%       109.000000\n",
       "max       194.000000\n",
       "Name: f4, dtype: float64"
      ]
     },
     "execution_count": 42,
     "metadata": {},
     "output_type": "execute_result"
    }
   ],
   "source": [
    "\n",
    "data.f4.describe()"
   ]
  },
  {
   "cell_type": "code",
   "execution_count": 43,
   "metadata": {
    "scrolled": false
   },
   "outputs": [
    {
     "name": "stderr",
     "output_type": "stream",
     "text": [
      "/Users/Duncan/anaconda3/lib/python3.6/site-packages/numpy/core/fromnumeric.py:57: FutureWarning: reshape is deprecated and will raise in a subsequent release. Please use .values.reshape(...) instead\n",
      "  return getattr(obj, method)(*args, **kwds)\n"
     ]
    },
    {
     "data": {
      "text/plain": [
       "<matplotlib.figure.Figure at 0x10fb71400>"
      ]
     },
     "metadata": {},
     "output_type": "display_data"
    },
    {
     "data": {
      "image/png": "[encoded data removed]",
      "text/plain": [
       "<matplotlib.figure.Figure at 0x10fb42588>"
      ]
     },
     "metadata": {},
     "output_type": "display_data"
    }
   ],
   "source": [
    "plt.figure()\n",
    "\n",
    "data.boxplot(by='label',figsize=(30,30))\n",
    "\n",
    "plt.show()\n",
    "plt.close()"
   ]
  },
  {
   "cell_type": "markdown",
   "metadata": {},
   "source": [
    "The features lack significant discriminating ability with respect to the labels. It's likely that more features are necessary to increase accuracy. "
   ]
  },
  {
   "cell_type": "markdown",
   "metadata": {},
   "source": [
    "# Discussion"
   ]
  },
  {
   "cell_type": "markdown",
   "metadata": {},
   "source": [
    "\n",
    "\n",
    "The naive bayes classifier (NB) is a type of linear classifier. A linear classifier is a function that maps a feature vector to two or more catagorical \"classifications\". NB is a probabilistic linear classifier; it uses probability to decide which class a problem instance belongs to. The chosen class is that with the highest probability. \n",
    "As its name suggests, NB uses Baye's Theorem, and it's \"naive\" in the sense that it operates on the assumption that all features of the data are indepedent (mutually exclusive). This naive approach is adopted for the sake of simplifying implementation and reducing computation time; \n",
    "as such, the NB implementation is fairly straightforward. \n",
    "For a given problem instance, we want probability that it belongs to a class C given its vector of features X, i.e. the posterior probability. To calculate this, we must estimate the probability distribution for C, i.e. the prior, and the probability distrubtion for the features X, given C, i.e. the liklihood. The prior distribution is straightforward to estimate: simply count the number of training instances with class C = k, and divide it by the total number of training instances. The liklihood distribution is estimated by taking the product of the liklihoods of each feature, i.e. the probability of feature x_i in X conditioned on class C_k. For each class C, we calculate the product of the liklihood and the prior, and choose the class with the highest probability. \n",
    "\n",
    "Perhaps the most important part of machine learning is creating the feature vectors. NB is simple to implement, but only as effective as the quality (descriptiveness, discrimination) of the feature vectors. The feature vectors are, to the best of my knowledge, the reason that my implementation of NB performs so poorly (acc ~= 5%). To clarify, my algorithm makes use of four features corresponding to partitions of the image. For each region, the ratio of the number of non-whitespace characters to whitespace characters is compared against a predefined threshold. If the ratio is above the threshold, the feature is assigned 1, and 0 otherwise.\n",
    "A 5% accuracy rate may reflect the fact that four partitions is insufficient; maybe eight would have done better; or sixteen. More testing is necessary.\n",
    "\n",
    "\n",
    "\n",
    "\n"
   ]
  },
  {
   "cell_type": "code",
   "execution_count": null,
   "metadata": {
    "collapsed": true
   },
   "outputs": [],
   "source": []
  }
 ],
 "metadata": {
  "kernelspec": {
   "display_name": "Python 3",
   "language": "python",
   "name": "python3"
  },
  "language_info": {
   "codemirror_mode": {
    "name": "ipython",
    "version": 3
   },
   "file_extension": ".py",
   "mimetype": "text/x-python",
   "name": "python",
   "nbconvert_exporter": "python",
   "pygments_lexer": "ipython3",
   "version": "3.6.3"
  }
 },
 "nbformat": 4,
 "nbformat_minor": 2
}
